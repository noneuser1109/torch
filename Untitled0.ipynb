{
  "nbformat": 4,
  "nbformat_minor": 0,
  "metadata": {
    "colab": {
      "provenance": [],
      "authorship_tag": "ABX9TyMJFa/OMVUFL+dHxFhb9FeY",
      "include_colab_link": true
    },
    "kernelspec": {
      "name": "python3",
      "display_name": "Python 3"
    },
    "language_info": {
      "name": "python"
    }
  },
  "cells": [
    {
      "cell_type": "markdown",
      "metadata": {
        "id": "view-in-github",
        "colab_type": "text"
      },
      "source": [
        "<a href=\"https://colab.research.google.com/github/noneuser1109/torch/blob/main/Untitled0.ipynb\" target=\"_parent\"><img src=\"https://colab.research.google.com/assets/colab-badge.svg\" alt=\"Open In Colab\"/></a>"
      ]
    },
    {
      "cell_type": "code",
      "execution_count": null,
      "metadata": {
        "colab": {
          "base_uri": "https://localhost:8080/"
        },
        "id": "A-Ubep_Riob5",
        "outputId": "eb46c203-624f-4064-dbe4-f311e97c7472"
      },
      "outputs": [
        {
          "output_type": "stream",
          "name": "stdout",
          "text": [
            "Cloning into 'torch'...\n",
            "remote: Enumerating objects: 3, done.\u001b[K\n",
            "remote: Counting objects: 100% (3/3), done.\u001b[K\n",
            "remote: Compressing objects: 100% (2/2), done.\u001b[K\n",
            "remote: Total 3 (delta 0), reused 0 (delta 0), pack-reused 0 (from 0)\u001b[K\n",
            "Receiving objects: 100% (3/3), 218.27 KiB | 2.08 MiB/s, done.\n",
            "CARDDataset.csv\n"
          ]
        }
      ],
      "source": [
        "!rm -rf torch\n",
        "\n",
        "# 克隆GitHub仓库\n",
        "!git clone https://github.com/noneuser1109/torch.git\n",
        "\n",
        "# 查看克隆的文件\n",
        "!ls torch"
      ]
    },
    {
      "cell_type": "code",
      "source": [
        "import numpy as np\n",
        "import torch\n",
        "\n",
        "# 从CSV文件读取数据到NumPy数组\n",
        "data = np.genfromtxt('torch/CARDDataset.csv', delimiter=',', skip_header=1)  # 跳过表头\n",
        "\n",
        "# 分离特征和标签（假设最后一列是标签）\n",
        "features = data[:, 2:-1]  # 所有行，除最后一列外的所有列\n",
        "labels = data[:, -1]    # 所有行，最后一列\n",
        "\n",
        "# 转换为PyTorch张量\n",
        "X = torch.tensor(features, dtype=torch.float32)\n",
        "y = torch.tensor(labels, dtype=torch.float32)  # 假设标签是整数类型\n",
        "mean_X, std_X = X.mean(dim=0), torch.clamp(X.std(dim=0), min=1e-8)\n",
        "mean_Y, std_Y = y.mean(), torch.clamp(y.std(), min=1e-8)\n",
        "X = (X - mean_X) / std_X\n",
        "y = (y - mean_Y) / std_Y\n",
        "\n",
        "print(f\"特征张量形状: {X.shape}\")\n",
        "print(f\"标签张量形状: {y.shape}\")\n",
        "print(X[0], y[0])"
      ],
      "metadata": {
        "colab": {
          "base_uri": "https://localhost:8080/"
        },
        "id": "RbwaPI94kuvv",
        "outputId": "bcd29d6a-2763-4dfa-80ac-180f5e0de54d"
      },
      "execution_count": null,
      "outputs": [
        {
          "output_type": "stream",
          "name": "stdout",
          "text": [
            "特征张量形状: torch.Size([1763, 55])\n",
            "标签张量形状: torch.Size([1763])\n",
            "tensor([ 1.9160, -0.9268, -0.4004, -0.8212, -0.4415, -0.3676, -0.8022, -0.4230,\n",
            "        -0.5565, -0.2611, -0.2997, -0.2847,  0.3423, -0.2632, -0.5261, -0.0661,\n",
            "        -0.6844,  1.7388, -0.5792, -0.5800, -0.5748,  0.3892,  0.1053,  0.0378,\n",
            "         0.1244,  0.2947,  1.9398, -1.6246,  1.2089, -0.2126,  0.0000, -0.2126,\n",
            "         0.0477,  0.0000,  0.3163, -1.0291, -1.6231,  0.6095,  1.3477, -1.7540,\n",
            "         0.4713,  0.0000, -2.1809,  0.4373,  0.8709,  1.4762, -0.9268,  0.2236,\n",
            "         0.1106,  0.4799,  0.3758,  0.0255, -0.8026,  1.3477,  1.5909]) tensor(1.3662)\n"
          ]
        }
      ]
    },
    {
      "cell_type": "code",
      "source": [
        "# 随机打乱数据\n",
        "np.random.seed(42)\n",
        "indices = np.random.permutation(len(X))\n",
        "X, y = X[indices], y[indices]\n",
        "\n",
        "# 划分训练集和测试集\n",
        "split_idx = int(0.8 * len(X))\n",
        "X_train, X_test = X[:split_idx], X[split_idx:]\n",
        "y_train, y_test = y[:split_idx], y[split_idx:]\n",
        "\n",
        "# 自定义数据迭代器生成器\n",
        "def data_iter(features, labels, batch_size):\n",
        "    num_examples = len(features)\n",
        "    indices = list(range(num_examples))\n",
        "    np.random.shuffle(indices)  # 每次迭代打乱顺序\n",
        "\n",
        "    for i in range(0, num_examples, batch_size):\n",
        "        batch_indices = indices[i: min(i + batch_size, num_examples)]\n",
        "        yield features[batch_indices], labels[batch_indices]\n",
        "\n",
        "# 使用数据迭代器\n",
        "batch_size = 32\n",
        "train_loader = data_iter(X_train, y_train, batch_size)\n",
        "\n",
        "# 验证数据迭代器\n",
        "for X_batch, y_batch in train_loader:\n",
        "    print(f\"训练批次特征形状: {X_batch}\")\n",
        "    print(f\"训练批次标签形状: {y_batch}\")\n",
        "    break"
      ],
      "metadata": {
        "colab": {
          "base_uri": "https://localhost:8080/"
        },
        "id": "xYexMeSysS41",
        "outputId": "f6a29d67-47ee-493b-a441-c5599fda271f"
      },
      "execution_count": null,
      "outputs": [
        {
          "output_type": "stream",
          "name": "stdout",
          "text": [
            "训练批次特征形状: tensor([[-0.8641,  1.2641, -1.4029,  ...,  1.2151, -0.3451, -0.8951],\n",
            "        [-0.9268, -0.9842,  0.0078,  ..., -0.5733, -1.2649, -0.9599],\n",
            "        [-1.0417,  3.4887,  1.2692,  ..., -0.6192,  0.7842, -1.5875],\n",
            "        ...,\n",
            "        [-1.2246, -0.4336,  0.3746,  ..., -0.5917,  1.6917, -0.8639],\n",
            "        [ 0.5834,  0.4705,  1.5171,  ..., -0.8210, -0.6340,  0.2237],\n",
            "        [ 0.3692,  0.8922,  1.4151,  ..., -0.8210,  0.5529,  0.2545]])\n",
            "训练批次标签形状: tensor([-9.7495e-01, -8.2709e-01, -2.5003e+00, -7.8714e-01, -1.0922e+00,\n",
            "        -8.0634e-01, -4.3386e-01,  5.4680e-01, -6.2013e-01,  9.6490e-01,\n",
            "        -5.2904e-01, -1.0871e+00, -9.1669e-01, -7.2934e-01,  4.4056e-01,\n",
            "         4.0680e-01, -9.2710e-01, -1.4924e+00,  8.8213e-01, -9.0219e-02,\n",
            "        -9.4740e-01,  4.4465e-05, -9.2325e-01,  4.5849e-01, -6.5189e-01,\n",
            "         7.6529e-01, -1.2097e+00,  6.2268e-02,  1.2819e-01,  4.7416e-02,\n",
            "         1.8539e-01, -6.0476e-01])\n"
          ]
        }
      ]
    },
    {
      "cell_type": "code",
      "source": [
        "!git clone https://github.com/XzwHan/CARD.git"
      ],
      "metadata": {
        "colab": {
          "base_uri": "https://localhost:8080/"
        },
        "id": "BOk25uDKs2db",
        "outputId": "f5b91144-b6be-4b1c-98af-36e0d3f8ab1c"
      },
      "execution_count": null,
      "outputs": [
        {
          "output_type": "stream",
          "name": "stdout",
          "text": [
            "fatal: destination path 'CARD' already exists and is not an empty directory.\n"
          ]
        }
      ]
    },
    {
      "cell_type": "code",
      "source": [
        "!pip install lightning"
      ],
      "metadata": {
        "colab": {
          "base_uri": "https://localhost:8080/"
        },
        "id": "QPwHBl1cwYga",
        "outputId": "529141dc-04cb-4fb8-a3e3-531b298240fc"
      },
      "execution_count": null,
      "outputs": [
        {
          "output_type": "stream",
          "name": "stdout",
          "text": [
            "Requirement already satisfied: lightning in /usr/local/lib/python3.11/dist-packages (2.5.1.post0)\n",
            "Requirement already satisfied: PyYAML<8.0,>=5.4 in /usr/local/lib/python3.11/dist-packages (from lightning) (6.0.2)\n",
            "Requirement already satisfied: fsspec<2026.0,>=2022.5.0 in /usr/local/lib/python3.11/dist-packages (from fsspec[http]<2026.0,>=2022.5.0->lightning) (2025.3.2)\n",
            "Requirement already satisfied: lightning-utilities<2.0,>=0.10.0 in /usr/local/lib/python3.11/dist-packages (from lightning) (0.14.3)\n",
            "Requirement already satisfied: packaging<25.0,>=20.0 in /usr/local/lib/python3.11/dist-packages (from lightning) (24.2)\n",
            "Requirement already satisfied: torch<4.0,>=2.1.0 in /usr/local/lib/python3.11/dist-packages (from lightning) (2.6.0+cu124)\n",
            "Requirement already satisfied: torchmetrics<3.0,>=0.7.0 in /usr/local/lib/python3.11/dist-packages (from lightning) (1.7.1)\n",
            "Requirement already satisfied: tqdm<6.0,>=4.57.0 in /usr/local/lib/python3.11/dist-packages (from lightning) (4.67.1)\n",
            "Requirement already satisfied: typing-extensions<6.0,>=4.4.0 in /usr/local/lib/python3.11/dist-packages (from lightning) (4.13.2)\n",
            "Requirement already satisfied: pytorch-lightning in /usr/local/lib/python3.11/dist-packages (from lightning) (2.5.1.post0)\n",
            "Requirement already satisfied: aiohttp!=4.0.0a0,!=4.0.0a1 in /usr/local/lib/python3.11/dist-packages (from fsspec[http]<2026.0,>=2022.5.0->lightning) (3.11.15)\n",
            "Requirement already satisfied: setuptools in /usr/local/lib/python3.11/dist-packages (from lightning-utilities<2.0,>=0.10.0->lightning) (75.2.0)\n",
            "Requirement already satisfied: filelock in /usr/local/lib/python3.11/dist-packages (from torch<4.0,>=2.1.0->lightning) (3.18.0)\n",
            "Requirement already satisfied: networkx in /usr/local/lib/python3.11/dist-packages (from torch<4.0,>=2.1.0->lightning) (3.4.2)\n",
            "Requirement already satisfied: jinja2 in /usr/local/lib/python3.11/dist-packages (from torch<4.0,>=2.1.0->lightning) (3.1.6)\n",
            "Requirement already satisfied: nvidia-cuda-nvrtc-cu12==12.4.127 in /usr/local/lib/python3.11/dist-packages (from torch<4.0,>=2.1.0->lightning) (12.4.127)\n",
            "Requirement already satisfied: nvidia-cuda-runtime-cu12==12.4.127 in /usr/local/lib/python3.11/dist-packages (from torch<4.0,>=2.1.0->lightning) (12.4.127)\n",
            "Requirement already satisfied: nvidia-cuda-cupti-cu12==12.4.127 in /usr/local/lib/python3.11/dist-packages (from torch<4.0,>=2.1.0->lightning) (12.4.127)\n",
            "Requirement already satisfied: nvidia-cudnn-cu12==9.1.0.70 in /usr/local/lib/python3.11/dist-packages (from torch<4.0,>=2.1.0->lightning) (9.1.0.70)\n",
            "Requirement already satisfied: nvidia-cublas-cu12==12.4.5.8 in /usr/local/lib/python3.11/dist-packages (from torch<4.0,>=2.1.0->lightning) (12.4.5.8)\n",
            "Requirement already satisfied: nvidia-cufft-cu12==11.2.1.3 in /usr/local/lib/python3.11/dist-packages (from torch<4.0,>=2.1.0->lightning) (11.2.1.3)\n",
            "Requirement already satisfied: nvidia-curand-cu12==10.3.5.147 in /usr/local/lib/python3.11/dist-packages (from torch<4.0,>=2.1.0->lightning) (10.3.5.147)\n",
            "Requirement already satisfied: nvidia-cusolver-cu12==11.6.1.9 in /usr/local/lib/python3.11/dist-packages (from torch<4.0,>=2.1.0->lightning) (11.6.1.9)\n",
            "Requirement already satisfied: nvidia-cusparse-cu12==12.3.1.170 in /usr/local/lib/python3.11/dist-packages (from torch<4.0,>=2.1.0->lightning) (12.3.1.170)\n",
            "Requirement already satisfied: nvidia-cusparselt-cu12==0.6.2 in /usr/local/lib/python3.11/dist-packages (from torch<4.0,>=2.1.0->lightning) (0.6.2)\n",
            "Requirement already satisfied: nvidia-nccl-cu12==2.21.5 in /usr/local/lib/python3.11/dist-packages (from torch<4.0,>=2.1.0->lightning) (2.21.5)\n",
            "Requirement already satisfied: nvidia-nvtx-cu12==12.4.127 in /usr/local/lib/python3.11/dist-packages (from torch<4.0,>=2.1.0->lightning) (12.4.127)\n",
            "Requirement already satisfied: nvidia-nvjitlink-cu12==12.4.127 in /usr/local/lib/python3.11/dist-packages (from torch<4.0,>=2.1.0->lightning) (12.4.127)\n",
            "Requirement already satisfied: triton==3.2.0 in /usr/local/lib/python3.11/dist-packages (from torch<4.0,>=2.1.0->lightning) (3.2.0)\n",
            "Requirement already satisfied: sympy==1.13.1 in /usr/local/lib/python3.11/dist-packages (from torch<4.0,>=2.1.0->lightning) (1.13.1)\n",
            "Requirement already satisfied: mpmath<1.4,>=1.1.0 in /usr/local/lib/python3.11/dist-packages (from sympy==1.13.1->torch<4.0,>=2.1.0->lightning) (1.3.0)\n",
            "Requirement already satisfied: numpy>1.20.0 in /usr/local/lib/python3.11/dist-packages (from torchmetrics<3.0,>=0.7.0->lightning) (2.0.2)\n",
            "Requirement already satisfied: aiohappyeyeballs>=2.3.0 in /usr/local/lib/python3.11/dist-packages (from aiohttp!=4.0.0a0,!=4.0.0a1->fsspec[http]<2026.0,>=2022.5.0->lightning) (2.6.1)\n",
            "Requirement already satisfied: aiosignal>=1.1.2 in /usr/local/lib/python3.11/dist-packages (from aiohttp!=4.0.0a0,!=4.0.0a1->fsspec[http]<2026.0,>=2022.5.0->lightning) (1.3.2)\n",
            "Requirement already satisfied: attrs>=17.3.0 in /usr/local/lib/python3.11/dist-packages (from aiohttp!=4.0.0a0,!=4.0.0a1->fsspec[http]<2026.0,>=2022.5.0->lightning) (25.3.0)\n",
            "Requirement already satisfied: frozenlist>=1.1.1 in /usr/local/lib/python3.11/dist-packages (from aiohttp!=4.0.0a0,!=4.0.0a1->fsspec[http]<2026.0,>=2022.5.0->lightning) (1.6.0)\n",
            "Requirement already satisfied: multidict<7.0,>=4.5 in /usr/local/lib/python3.11/dist-packages (from aiohttp!=4.0.0a0,!=4.0.0a1->fsspec[http]<2026.0,>=2022.5.0->lightning) (6.4.3)\n",
            "Requirement already satisfied: propcache>=0.2.0 in /usr/local/lib/python3.11/dist-packages (from aiohttp!=4.0.0a0,!=4.0.0a1->fsspec[http]<2026.0,>=2022.5.0->lightning) (0.3.1)\n",
            "Requirement already satisfied: yarl<2.0,>=1.17.0 in /usr/local/lib/python3.11/dist-packages (from aiohttp!=4.0.0a0,!=4.0.0a1->fsspec[http]<2026.0,>=2022.5.0->lightning) (1.20.0)\n",
            "Requirement already satisfied: MarkupSafe>=2.0 in /usr/local/lib/python3.11/dist-packages (from jinja2->torch<4.0,>=2.1.0->lightning) (3.0.2)\n",
            "Requirement already satisfied: idna>=2.0 in /usr/local/lib/python3.11/dist-packages (from yarl<2.0,>=1.17.0->aiohttp!=4.0.0a0,!=4.0.0a1->fsspec[http]<2026.0,>=2022.5.0->lightning) (3.10)\n"
          ]
        }
      ]
    },
    {
      "cell_type": "code",
      "source": [
        "import time\n",
        "import torch\n",
        "import numpy as np\n",
        "import torch.nn as nn\n",
        "import seaborn as sns\n",
        "from tqdm import trange\n",
        "from torch.optim import Adam\n",
        "import matplotlib.pyplot as plt\n",
        "import torch.nn.functional as F\n",
        "from sklearn.metrics import r2_score\n",
        "from lightning import LightningDataModule\n",
        "from typing import Union, Callable, Tuple\n",
        "from sklearn.model_selection import train_test_split\n",
        "from torch.utils.data import DataLoader, TensorDataset\n",
        "from CARD.regression.model import (\n",
        "    DeterministicFeedForwardNeuralNetwork,\n",
        "    ConditionalLinear,\n",
        ")\n",
        "from CARD.regression.diffusion_utils import (\n",
        "    make_beta_schedule,\n",
        "    q_sample,\n",
        "    p_sample_loop,\n",
        "    p_sample,\n",
        ")\n",
        "\n",
        "\n",
        "device = torch.device(\"cuda\" if torch.cuda.is_available() else \"cpu\")\n",
        "print(device)\n",
        "\n",
        "sns.set(style=\"darkgrid\", palette=\"husl\")"
      ],
      "metadata": {
        "colab": {
          "base_uri": "https://localhost:8080/"
        },
        "id": "-EobqxVEwc-s",
        "outputId": "17a16d33-58ef-403f-fa5e-09cfe2ab9f37"
      },
      "execution_count": null,
      "outputs": [
        {
          "output_type": "stream",
          "name": "stdout",
          "text": [
            "cpu\n"
          ]
        }
      ]
    },
    {
      "cell_type": "code",
      "source": [
        "n_steps = 500\n",
        "cat_x = True\n",
        "cat_y_pred = True\n",
        "\n",
        "x_dim = 55\n",
        "y_dim = 1\n",
        "z_dim = 2\n",
        "\n",
        "hid_layers = [128, 64]\n",
        "\n",
        "beta_schedule = \"linear\"\n",
        "beta_start = 0.0001\n",
        "beta_end = 0.02\n",
        "\n",
        "n_z_samples = 100\n"
      ],
      "metadata": {
        "id": "d6mq6ARQxLBX"
      },
      "execution_count": null,
      "outputs": []
    },
    {
      "cell_type": "code",
      "source": [
        "class ConditionalGuidedModel(nn.Module):\n",
        "    def __init__(\n",
        "        self,\n",
        "        n_steps: int,\n",
        "        cat_x: bool,\n",
        "        cat_y_pred: bool,\n",
        "        x_dim: int,\n",
        "        y_dim: int,\n",
        "        z_dim: int,\n",
        "    ):\n",
        "        super(ConditionalGuidedModel, self).__init__()\n",
        "        self.cat_x = cat_x\n",
        "        self.cat_y_pred = cat_y_pred\n",
        "        data_dim = y_dim\n",
        "        if self.cat_x:\n",
        "            data_dim += x_dim\n",
        "        if self.cat_y_pred:\n",
        "            data_dim += y_dim\n",
        "        self.lin1 = ConditionalLinear(data_dim, 128, n_steps)\n",
        "        self.lin2 = ConditionalLinear(128, 128, n_steps)\n",
        "        self.lin3 = ConditionalLinear(128, 128, n_steps)\n",
        "        self.lin4 = nn.Linear(128, 1)\n",
        "\n",
        "    def forward(self, x, y_t, y_0_hat, t):\n",
        "        if self.cat_x:\n",
        "            if self.cat_y_pred:\n",
        "                eps_pred = torch.cat((y_t, y_0_hat, x), dim=1)\n",
        "            else:\n",
        "                eps_pred = torch.cat((y_t, x), dim=1)\n",
        "        else:\n",
        "            if self.cat_y_pred:\n",
        "                eps_pred = torch.cat((y_t, y_0_hat), dim=1)\n",
        "            else:\n",
        "                eps_pred = y_t\n",
        "        eps_pred = F.softplus(self.lin1(eps_pred, t))\n",
        "        eps_pred = F.softplus(self.lin2(eps_pred, t))\n",
        "        eps_pred = F.softplus(self.lin3(eps_pred, t))\n",
        "        return self.lin4(eps_pred)\n",
        "\n",
        "\n",
        "diff_model = ConditionalGuidedModel(\n",
        "    n_steps=n_steps,\n",
        "    cat_x=cat_x,\n",
        "    cat_y_pred=cat_y_pred,\n",
        "    x_dim=x_dim,\n",
        "    y_dim=y_dim,\n",
        "    z_dim=z_dim,\n",
        ")\n",
        "diff_model.to(device)"
      ],
      "metadata": {
        "colab": {
          "base_uri": "https://localhost:8080/"
        },
        "id": "raDmzOYjxpuL",
        "outputId": "9c12b7e5-6fc2-4470-f4b2-1027c50c9726"
      },
      "execution_count": null,
      "outputs": [
        {
          "output_type": "execute_result",
          "data": {
            "text/plain": [
              "ConditionalGuidedModel(\n",
              "  (lin1): ConditionalLinear(\n",
              "    (lin): Linear(in_features=57, out_features=128, bias=True)\n",
              "    (embed): Embedding(500, 128)\n",
              "  )\n",
              "  (lin2): ConditionalLinear(\n",
              "    (lin): Linear(in_features=128, out_features=128, bias=True)\n",
              "    (embed): Embedding(500, 128)\n",
              "  )\n",
              "  (lin3): ConditionalLinear(\n",
              "    (lin): Linear(in_features=128, out_features=128, bias=True)\n",
              "    (embed): Embedding(500, 128)\n",
              "  )\n",
              "  (lin4): Linear(in_features=128, out_features=1, bias=True)\n",
              ")"
            ]
          },
          "metadata": {},
          "execution_count": 8
        }
      ]
    },
    {
      "cell_type": "code",
      "source": [
        "cond_pred_model = DeterministicFeedForwardNeuralNetwork(dim_in=x_dim,\n",
        "                                                        dim_out=y_dim,\n",
        "                                                        hid_layers=hid_layers,\n",
        "                                                        use_batchnorm=True,\n",
        "                                                        )\n",
        "cond_pred_model.to(device)"
      ],
      "metadata": {
        "colab": {
          "base_uri": "https://localhost:8080/"
        },
        "id": "-7c-NIjSx8op",
        "outputId": "4ee1f7eb-ec2c-4036-beef-3c153dd93d14"
      },
      "execution_count": null,
      "outputs": [
        {
          "output_type": "execute_result",
          "data": {
            "text/plain": [
              "DeterministicFeedForwardNeuralNetwork(\n",
              "  (network): Sequential(\n",
              "    (0): Linear(in_features=55, out_features=128, bias=True)\n",
              "    (1): BatchNorm1d(128, eps=1e-05, momentum=0.1, affine=True, track_running_stats=True)\n",
              "    (2): LeakyReLU(negative_slope=0.01)\n",
              "    (3): Dropout(p=0, inplace=False)\n",
              "    (4): Linear(in_features=128, out_features=64, bias=True)\n",
              "    (5): BatchNorm1d(64, eps=1e-05, momentum=0.1, affine=True, track_running_stats=True)\n",
              "    (6): LeakyReLU(negative_slope=0.01)\n",
              "    (7): Dropout(p=0, inplace=False)\n",
              "    (8): Linear(in_features=64, out_features=1, bias=True)\n",
              "  )\n",
              ")"
            ]
          },
          "metadata": {},
          "execution_count": 41
        }
      ]
    },
    {
      "cell_type": "code",
      "source": [
        "n_pretrain_epochs = 1000\n",
        "aux_optimizer = Adam(cond_pred_model.parameters(), lr=0.001)\n",
        "aux_cost_fn = nn.MSELoss()\n",
        "cond_pred_model.train()\n",
        "train_loader = data_iter(X_train, y_train, batch_size)\n",
        "bar = trange(n_pretrain_epochs, leave=True)\n",
        "for epoch in bar:\n",
        "    for x, y in train_loader:\n",
        "        x, y = x.to(device), y.to(device)\n",
        "        y_pred = cond_pred_model(x)\n",
        "        aux_cost = aux_cost_fn(y_pred.reshape(y.shape), y)\n",
        "        aux_optimizer.zero_grad()\n",
        "        aux_cost.backward()\n",
        "        aux_optimizer.step()\n",
        "        bar.set_description(f\"Loss: {aux_cost.item()}\")\n",
        "# print(aux_cost.item())\n"
      ],
      "metadata": {
        "colab": {
          "base_uri": "https://localhost:8080/"
        },
        "collapsed": true,
        "id": "3oVaQ1I7yNG7",
        "outputId": "2c5a0f31-a19c-4c6d-a795-c653a22db7d2"
      },
      "execution_count": null,
      "outputs": [
        {
          "output_type": "stream",
          "name": "stderr",
          "text": [
            "Loss: 0.14706073701381683: 100%|██████████| 1000/1000 [00:00<00:00, 2354.02it/s]\n"
          ]
        }
      ]
    },
    {
      "cell_type": "code",
      "source": [],
      "metadata": {
        "id": "_-DTk8OgyZxZ"
      },
      "execution_count": null,
      "outputs": []
    }
  ]
}